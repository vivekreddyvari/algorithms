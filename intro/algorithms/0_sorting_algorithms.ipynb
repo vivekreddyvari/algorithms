{
 "cells": [
  {
   "cell_type": "code",
   "execution_count": 0,
   "metadata": {
    "application/vnd.databricks.v1+cell": {
     "cellMetadata": {
      "byteLimit": 2048000,
      "rowLimit": 10000
     },
     "inputWidgets": {},
     "nuid": "861d8f75-662d-4651-87d9-6e6ef278192d",
     "showTitle": false,
     "tableResultSettingsMap": {},
     "title": ""
    }
   },
   "outputs": [],
   "source": [
    "dbutils.widgets.text(\"numbers\", \"\", \"Enter a list of numbers separated by commas\")\n",
    "numbers = dbutils.widgets.get(\"numbers\")\n",
    "a = [int(x) for x in numbers.split(\",\") if x.strip().isdigit()]"
   ]
  },
  {
   "cell_type": "markdown",
   "metadata": {
    "application/vnd.databricks.v1+cell": {
     "cellMetadata": {
      "byteLimit": 2048000,
      "rowLimit": 10000
     },
     "inputWidgets": {},
     "nuid": "cbdecf83-4604-4675-976c-1900b4ed0af0",
     "showTitle": false,
     "tableResultSettingsMap": {},
     "title": ""
    }
   },
   "source": [
    "### Understanding Sorting Algorthms\n",
    "\n",
    "1.  Insertion Sort\n",
    "It takes approximately \\( c_1 n^2 \\) to sort \\( n \\) items, where c_1 is a constant, and does not depen on n.\n",
    "\n",
    "%python\n",
    "- `def insertion_sort(A, n):`\n",
    "-     `for i in range(1, n):`\n",
    "-         `key = A[i]`\n",
    "-         `# Insert A[i] into the sorted subarray A[0:i-1]`\n",
    "-         `j = i - 1`\n",
    "-         `while j >= 0 and A[j] > key:`\n",
    "-             `A[j + 1] = A[j]`\n",
    "-             `j -= 1`\n",
    "-        `A[j + 1] = key\n",
    "\n",
    "2.  Merge Sort\n",
    "It takes approximately \\(c_2 * n * log n \\) where \\(log n\\) stand for \\(log_2_n\\) and \\(c_2\\) is another constant.\n",
    "\n",
    "\n",
    "\n",
    "\n",
    "\n"
   ]
  },
  {
   "cell_type": "code",
   "execution_count": 0,
   "metadata": {
    "application/vnd.databricks.v1+cell": {
     "cellMetadata": {
      "byteLimit": 2048000,
      "rowLimit": 10000
     },
     "inputWidgets": {},
     "nuid": "be685cbf-f059-4ca6-b753-3914977336c0",
     "showTitle": true,
     "tableResultSettingsMap": {},
     "title": "imports"
    }
   },
   "outputs": [],
   "source": [
    "%run \"./_functions_import\""
   ]
  },
  {
   "cell_type": "code",
   "execution_count": 0,
   "metadata": {
    "application/vnd.databricks.v1+cell": {
     "cellMetadata": {
      "byteLimit": 2048000,
      "rowLimit": 10000
     },
     "inputWidgets": {},
     "nuid": "475f669a-3e0b-49d5-a949-239fef5e1222",
     "showTitle": true,
     "tableResultSettingsMap": {},
     "title": "initialize"
    }
   },
   "outputs": [],
   "source": [
    "spark = get_spark_session(\"sorting\")\n",
    "logger = get_logger(\"sorting\")"
   ]
  },
  {
   "cell_type": "code",
   "execution_count": 0,
   "metadata": {
    "application/vnd.databricks.v1+cell": {
     "cellMetadata": {
      "byteLimit": 2048000,
      "rowLimit": 10000
     },
     "inputWidgets": {},
     "nuid": "45c77ef9-43e7-41e6-b074-42475b086d81",
     "showTitle": true,
     "tableResultSettingsMap": {},
     "title": "sorting_functions"
    }
   },
   "outputs": [],
   "source": [
    "def insertion_sort(arr:list):\n",
    "    for i in range(1, len(arr)):  # Iterate over the array starting from the second element\n",
    "        key = arr[i]  # Store the current element as the key\n",
    "        j = i - 1  # Initialize j to the index before i\n",
    "        while j >= 0 and key < arr[j]:  # Shift elements of arr[0..i-1] that are greater than key to one position ahead\n",
    "            arr[j + 1] = arr[j]  # Move element one position to the right\n",
    "            j -= 1  # Move to the previous element\n",
    "        arr[j + 1] = key  # Place the key at its correct position\n",
    "    return arr  # Return the sorted array\n",
    "\n",
    "def insertion_sort_decreasing(arr:list):\n",
    "    for i in range(1, len(arr)):  # interate over the array starting from the second element\n",
    "        key = arr[i]   # store the current element as the key\n",
    "        j = i - 1     \n",
    "        while j >= 0 and key > arr[j]: # shift elements of arr[i-1,0] that are less than key to one position ahead  \n",
    "            arr[j + 1] = arr[j]\n",
    "            j -= 1\n",
    "        arr[j + 1] = key\n",
    "    return arr  \n",
    "\n",
    "\n",
    "def linear_search(arr: list, element_to_search: int):\n",
    "    for i in range(len(arr)):\n",
    "        if arr[i] == element_to_search:\n",
    "            return arr[i]\n",
    "    return -1\n",
    "    "
   ]
  },
  {
   "cell_type": "code",
   "execution_count": 0,
   "metadata": {
    "application/vnd.databricks.v1+cell": {
     "cellMetadata": {
      "byteLimit": 2048000,
      "rowLimit": 10000
     },
     "inputWidgets": {},
     "nuid": "59273df7-35aa-48da-b960-b0a892553431",
     "showTitle": true,
     "tableResultSettingsMap": {},
     "title": "main_code"
    }
   },
   "outputs": [],
   "source": [
    "if __name__ == \"__main__\":\n",
    "    # arr = [90, 20, 30, 3, 100, 7]\n",
    "    \n",
    "    # sorting increasing way\n",
    "    sorted_arr = insertion_sort(a)\n",
    "    logger.info(f\"INSERTION SORT = {sorted_arr}\")\n",
    "\n",
    "    # sorting decreasing way\n",
    "    sorted_arr_descreasing = insertion_sort_decreasing(a)\n",
    "    logger.info(f\"INSERTION SORT DECREASING= {sorted_arr_descreasing}\")\n",
    "\n",
    "    # linear search\n",
    "    element_to_search = 110\n",
    "    index = linear_search(a, element_to_search)\n",
    "    \n",
    "    if index is not None and index >= 0: \n",
    "        logger.info(f\"LINEAR SEARCH element found = {index}\") \n",
    "    else: \n",
    "        logger.info(f\"LINEAR SEARCH `{element_to_search}` element not found \")"
   ]
  }
 ],
 "metadata": {
  "application/vnd.databricks.v1+notebook": {
   "computePreferences": null,
   "dashboards": [],
   "environmentMetadata": {
    "base_environment": "",
    "environment_version": "2"
   },
   "inputWidgetPreferences": null,
   "language": "python",
   "notebookMetadata": {
    "pythonIndentUnit": 4
   },
   "notebookName": "0_sorting_algorithms",
   "widgets": {
    "numbers": {
     "currentValue": "10, 11, 220, 330",
     "nuid": "3dd452d9-d080-4ca0-b48e-5c6d58acef16",
     "typedWidgetInfo": {
      "autoCreated": false,
      "defaultValue": "",
      "label": "Enter a list of numbers separated by commas",
      "name": "numbers",
      "options": {
       "widgetDisplayType": "Text",
       "validationRegex": null
      },
      "parameterDataType": "String"
     },
     "widgetInfo": {
      "widgetType": "text",
      "defaultValue": "",
      "label": "Enter a list of numbers separated by commas",
      "name": "numbers",
      "options": {
       "widgetType": "text",
       "autoCreated": null,
       "validationRegex": null
      }
     }
    }
   }
  },
  "language_info": {
   "name": "python"
  }
 },
 "nbformat": 4,
 "nbformat_minor": 0
}
