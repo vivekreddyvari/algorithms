{
 "cells": [
  {
   "cell_type": "code",
   "execution_count": 0,
   "metadata": {
    "application/vnd.databricks.v1+cell": {
     "cellMetadata": {
      "byteLimit": 2048000,
      "rowLimit": 10000
     },
     "inputWidgets": {},
     "nuid": "e7ce5892-8124-4e0b-9850-b1ba42fc8f88",
     "showTitle": true,
     "tableResultSettingsMap": {},
     "title": "imports"
    }
   },
   "outputs": [],
   "source": [
    "from pyspark.sql import SparkSession\n",
    "from pyspark.sql import types as T\n",
    "from pyspark.sql import functions as F\n",
    "import logging\n"
   ]
  },
  {
   "cell_type": "code",
   "execution_count": 0,
   "metadata": {
    "application/vnd.databricks.v1+cell": {
     "cellMetadata": {
      "byteLimit": 2048000,
      "rowLimit": 10000
     },
     "inputWidgets": {},
     "nuid": "9595df05-3df7-47a9-9e9b-94f23004253d",
     "showTitle": false,
     "tableResultSettingsMap": {},
     "title": ""
    }
   },
   "outputs": [],
   "source": [
    "def get_spark_session(name: str):\n",
    "    \"\"\"\n",
    "    Create and return a SparkSession with the given name.\n",
    "\n",
    "    Args:\n",
    "        name (str): The name of the SparkSession.   \n",
    "    \"\"\"    \n",
    "    return SparkSession.builder.appName(name).getOrCreate()\n",
    "\n",
    "def get_logger(name: str):\n",
    "    \"\"\"\n",
    "    Create and return a logger with the given name.\n",
    "\n",
    "    Args:\n",
    "        name (str): The name of the logger (usually __name__ or program name).\n",
    "\n",
    "    Returns:\n",
    "        logging.Logger: Configured logger instance.\n",
    "    \"\"\"\n",
    "    logger = logging.getLogger(name)\n",
    "    logger.setLevel(logging.DEBUG)  # Set the logging level\n",
    "\n",
    "    # Create console handler and set level to debug\n",
    "    ch = logging.StreamHandler()\n",
    "    ch.setLevel(logging.DEBUG)\n",
    "\n",
    "    # Create formatter\n",
    "    formatter = logging.Formatter(\n",
    "        '%(asctime)s - %(name)s - %(levelname)s - %(message)s'\n",
    "    )\n",
    "\n",
    "    # Add formatter to ch\n",
    "    ch.setFormatter(formatter)\n",
    "\n",
    "    # Add ch to logger if it doesn't already have handlers\n",
    "    if not logger.hasHandlers():\n",
    "        logger.addHandler(ch)\n",
    "\n",
    "    return logger\n",
    "\n",
    "    "
   ]
  }
 ],
 "metadata": {
  "application/vnd.databricks.v1+notebook": {
   "computePreferences": null,
   "dashboards": [],
   "environmentMetadata": {
    "base_environment": "",
    "environment_version": "2"
   },
   "inputWidgetPreferences": null,
   "language": "python",
   "notebookMetadata": {
    "pythonIndentUnit": 4
   },
   "notebookName": "_functions_import",
   "widgets": {}
  },
  "language_info": {
   "name": "python"
  }
 },
 "nbformat": 4,
 "nbformat_minor": 0
}
